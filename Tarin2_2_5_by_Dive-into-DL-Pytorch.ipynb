{
 "cells": [
  {
   "cell_type": "code",
   "execution_count": 2,
   "id": "da3c2054-3932-4f7a-a60d-9dd073e4abc3",
   "metadata": {},
   "outputs": [],
   "source": [
    "import torch\n",
    "import numpy as np"
   ]
  },
  {
   "cell_type": "code",
   "execution_count": 3,
   "id": "f3870d46-d280-4e41-9a52-305ff778437a",
   "metadata": {},
   "outputs": [
    {
     "name": "stdout",
     "output_type": "stream",
     "text": [
      "tensor([1., 1., 1., 1., 1.]) [1. 1. 1. 1. 1.]\n",
      "tensor([2., 2., 2., 2., 2.]) [2. 2. 2. 2. 2.]\n",
      "tensor([3., 3., 3., 3., 3.]) [3. 3. 3. 3. 3.]\n"
     ]
    }
   ],
   "source": [
    "a = torch.ones(5)\n",
    "b = a.numpy()\n",
    "print(a, b)\n",
    "a += 1\n",
    "print(a, b)\n",
    "b += 1\n",
    "print(a, b) # numpy() 和 from_numpy() 将 Tensor 和NumPy中的数组相互转换。但是需要注意的⼀点是： 这两个函数所产⽣的的 Tensor 和NumPy中的数组共享相同的内存"
   ]
  },
  {
   "cell_type": "code",
   "execution_count": 4,
   "id": "96963bbc-e2c9-4420-9cba-9a24546f388f",
   "metadata": {},
   "outputs": [
    {
     "name": "stdout",
     "output_type": "stream",
     "text": [
      "[1. 1. 1. 1.] tensor([1., 1., 1., 1.], dtype=torch.float64)\n",
      "[2. 2. 2. 2.] tensor([2., 2., 2., 2.], dtype=torch.float64)\n",
      "[3. 3. 3. 3.] tensor([3., 3., 3., 3.], dtype=torch.float64)\n"
     ]
    }
   ],
   "source": [
    "\n",
    "a = np.ones(4)\n",
    "b = torch.from_numpy(a)\n",
    "\n",
    "print(a,b)\n",
    "a += 1\n",
    "print(a,b)\n",
    "b += 1\n",
    "print(a,b)#在CPU上的 Tensor （除了 CharTensor ）都⽀持与NumPy数组相互转换"
   ]
  },
  {
   "cell_type": "code",
   "execution_count": 7,
   "id": "1e463e20-5d00-483e-b423-287b76611297",
   "metadata": {},
   "outputs": [
    {
     "name": "stdout",
     "output_type": "stream",
     "text": [
      "[4. 4. 4. 4.] tensor([3., 3., 3., 3.])\n"
     ]
    }
   ],
   "source": [
    "c = torch.Tensor(a)\n",
    "a += 1\n",
    "print(a, c) #为拷贝复制，会产生新的内存"
   ]
  },
  {
   "cell_type": "code",
   "execution_count": 8,
   "id": "fbbed5e1-d9e9-49b6-bf47-234f2960c34e",
   "metadata": {},
   "outputs": [
    {
     "name": "stdout",
     "output_type": "stream",
     "text": [
      "tensor([[1., 0., 0.],\n",
      "        [0., 1., 0.],\n",
      "        [0., 0., 1.]])\n",
      "tensor([[1., 1., 1.],\n",
      "        [1., 1., 1.],\n",
      "        [1., 1., 1.]], device='cuda:0')\n",
      "tensor([[1., 0., 0.],\n",
      "        [0., 1., 0.],\n",
      "        [0., 0., 1.]], device='cuda:0')\n",
      "tensor([[2., 1., 1.],\n",
      "        [1., 2., 1.],\n",
      "        [1., 1., 2.]], device='cuda:0')\n",
      "tensor([[2., 1., 1.],\n",
      "        [1., 2., 1.],\n",
      "        [1., 1., 2.]], dtype=torch.float64)\n"
     ]
    }
   ],
   "source": [
    "x = torch.eye(3)\n",
    "if torch.cuda.is_available():\n",
    " device = torch.device(\"cuda\") # GPU\n",
    " print(x)\n",
    " y = torch.ones_like(x, device=device) # 直接创建⼀个在GPU上的Tensor\n",
    " print(y)\n",
    " x = x.to(device) # 等价于 .to(\"cuda\")\n",
    " print(x)\n",
    " z = x + y\n",
    " print(z)\n",
    " print(z.to(\"cpu\", torch.double)) "
   ]
  },
  {
   "cell_type": "code",
   "execution_count": null,
   "id": "e1cb425f-8ec5-4b65-b799-936ce80fa70b",
   "metadata": {},
   "outputs": [],
   "source": []
  },
  {
   "cell_type": "code",
   "execution_count": null,
   "id": "7fe5bf46-a18f-4595-b756-d6458f7fd657",
   "metadata": {},
   "outputs": [],
   "source": []
  },
  {
   "cell_type": "code",
   "execution_count": null,
   "id": "f2f84877-bdf5-4643-84b4-e84df50f5660",
   "metadata": {},
   "outputs": [],
   "source": []
  }
 ],
 "metadata": {
  "kernelspec": {
   "display_name": "Python [conda env:train_env]",
   "language": "python",
   "name": "conda-env-train_env-py"
  },
  "language_info": {
   "codemirror_mode": {
    "name": "ipython",
    "version": 3
   },
   "file_extension": ".py",
   "mimetype": "text/x-python",
   "name": "python",
   "nbconvert_exporter": "python",
   "pygments_lexer": "ipython3",
   "version": "3.9.21"
  }
 },
 "nbformat": 4,
 "nbformat_minor": 5
}
