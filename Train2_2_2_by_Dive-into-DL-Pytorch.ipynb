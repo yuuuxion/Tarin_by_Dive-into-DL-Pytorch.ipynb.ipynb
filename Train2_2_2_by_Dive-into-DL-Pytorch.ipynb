{
 "cells": [
  {
   "cell_type": "code",
   "execution_count": 3,
   "id": "f019073d-3845-4a2f-97ac-d02b862e4020",
   "metadata": {},
   "outputs": [],
   "source": [
    "import torch"
   ]
  },
  {
   "cell_type": "code",
   "execution_count": 11,
   "id": "05ab4c53-ea7b-45d2-bf0e-b67e6a15c1ab",
   "metadata": {},
   "outputs": [
    {
     "name": "stdout",
     "output_type": "stream",
     "text": [
      "tensor([[-2.5356,  3.0055,  3.5947],\n",
      "        [-0.0150,  1.7194,  5.7156]])\n",
      "tensor([[0.4015, 0.9856, 0.9045],\n",
      "        [0.8492, 0.5430, 0.8808]])\n",
      "tensor([[-2.1341,  3.9911,  4.4992],\n",
      "        [ 0.8342,  2.2624,  6.5964]])\n",
      "tensor([[-2.1341,  3.9911,  4.4992],\n",
      "        [ 0.8342,  2.2624,  6.5964]])\n",
      "tensor([[-2.1341,  3.9911,  4.4992],\n",
      "        [ 0.8342,  2.2624,  6.5964]])\n",
      "tensor([[-2.1341,  3.9911,  4.4992],\n",
      "        [ 0.8342,  2.2624,  6.5964]])\n"
     ]
    }
   ],
   "source": [
    "x = torch.normal(2,2,size = (2,3)) # 均值 方差  形状\n",
    "print(x)\n",
    "y = torch.rand_like(x)\n",
    "print(y)\n",
    "\n",
    "print(x+y)\n",
    "print(torch.add(x,y))\n",
    "\n",
    "result = torch.empty(2, 3)\n",
    "torch.add(x, y, out=result)\n",
    "print(result)\n",
    "\n",
    "y.add_(x) # 等价于y = y.add(x)\n",
    "print(y)"
   ]
  },
  {
   "cell_type": "code",
   "execution_count": 80,
   "id": "20fb4298-dfe2-406e-bf3e-35812c99c5ff",
   "metadata": {},
   "outputs": [
    {
     "name": "stdout",
     "output_type": "stream",
     "text": [
      "tensor([1.5141, 1.2513, 1.0568, 1.4136, 1.9918])\n",
      "tensor([1.5141, 1.2513, 1.0568, 1.4136, 1.9918])\n"
     ]
    }
   ],
   "source": [
    "y = x[0, :]\n",
    "y += 1\n",
    "print(y)\n",
    "print(x[0, :]) # 源tensor也被改了"
   ]
  },
  {
   "cell_type": "code",
   "execution_count": 20,
   "id": "bdd0552f-649a-4c62-885b-9af0020be1e8",
   "metadata": {},
   "outputs": [
    {
     "name": "stdout",
     "output_type": "stream",
     "text": [
      "tensor([[-1.5356,  4.0055,  4.5947]])\n"
     ]
    }
   ],
   "source": [
    "y = torch.index_select(x,dim=0,index=torch.tensor([0])) #index得是张量 dim = 0 是 行  dim = 1 = 列\n",
    "print(y)"
   ]
  },
  {
   "cell_type": "code",
   "execution_count": 22,
   "id": "d5c828b3-ad98-42bf-aa8d-8ec925d3b91b",
   "metadata": {},
   "outputs": [
    {
     "name": "stdout",
     "output_type": "stream",
     "text": [
      "tensor([-1.5356,  4.0055,  5.7156])\n"
     ]
    }
   ],
   "source": [
    "z = torch.tensor([[True,True,False],[False,False,True]])\n",
    "y = torch.masked_select(x,z) #x和z维度相同\n",
    "print(y)"
   ]
  },
  {
   "cell_type": "code",
   "execution_count": 81,
   "id": "817d94a1-dea4-48b5-987d-a3e761454eec",
   "metadata": {},
   "outputs": [
    {
     "name": "stdout",
     "output_type": "stream",
     "text": [
      "tensor([1.5141, 1.2513, 1.0568, 1.4136, 1.9918, 0.9264, 0.4555, 0.9974, 0.5151,\n",
      "        0.4051, 0.3534, 0.5317, 0.5478, 0.9961, 0.2300, 0.8631, 0.6638, 0.3347,\n",
      "        0.4907, 0.4558, 0.5565, 0.1368, 0.2828, 0.9179, 0.4255])\n"
     ]
    }
   ],
   "source": [
    "z = x > 0 \n",
    "y = torch.masked_select(x,z) \n",
    "print(y)"
   ]
  },
  {
   "cell_type": "code",
   "execution_count": 82,
   "id": "ba95a869-2d00-45a6-bede-4d68097330e2",
   "metadata": {},
   "outputs": [
    {
     "name": "stdout",
     "output_type": "stream",
     "text": [
      "tensor([[0, 0],\n",
      "        [0, 1],\n",
      "        [0, 2],\n",
      "        [0, 3],\n",
      "        [0, 4],\n",
      "        [1, 0],\n",
      "        [1, 1],\n",
      "        [1, 2],\n",
      "        [1, 3],\n",
      "        [1, 4],\n",
      "        [2, 0],\n",
      "        [2, 1],\n",
      "        [2, 2],\n",
      "        [2, 3],\n",
      "        [2, 4],\n",
      "        [3, 0],\n",
      "        [3, 1],\n",
      "        [3, 2],\n",
      "        [3, 3],\n",
      "        [3, 4],\n",
      "        [4, 0],\n",
      "        [4, 1],\n",
      "        [4, 2],\n",
      "        [4, 3],\n",
      "        [4, 4]])\n"
     ]
    }
   ],
   "source": [
    "y = torch.nonzero(x) #返回非0元素下标\n",
    "print(y)"
   ]
  },
  {
   "cell_type": "code",
   "execution_count": 83,
   "id": "dada079d-2829-4e26-aa37-f5291ea521d5",
   "metadata": {},
   "outputs": [
    {
     "name": "stdout",
     "output_type": "stream",
     "text": [
      "tensor([[1, 5, 3],\n",
      "        [4, 8, 6]])\n"
     ]
    }
   ],
   "source": [
    "input = torch.tensor([\n",
    "    [1, 2, 3],\n",
    "    [4, 5, 6],\n",
    "    [7, 8, 9]\n",
    "])  # shape (3, 3)\n",
    "\n",
    "# 沿行（dim=0）收集数据\n",
    "index = torch.tensor([\n",
    "    [0, 1, 0],  # 第0行选第[0,0][1,1][0,2]\n",
    "    [1, 2, 1]   # 第1行选第[1,0][2,1][1,2]\n",
    "])  # shape (2, 3)\n",
    "\n",
    "output = torch.gather(input, dim=0, index=index) #output[0,1] = input[index[0,1], 1] = input[1,1] = 5。\n",
    "print(output)"
   ]
  },
  {
   "cell_type": "code",
   "execution_count": 4,
   "id": "864ed08d-d2e9-482a-820f-51a78764a2a8",
   "metadata": {},
   "outputs": [
    {
     "name": "stdout",
     "output_type": "stream",
     "text": [
      "torch.Size([3, 5]) torch.Size([15]) torch.Size([3, 5])\n",
      "tensor([[ 0.5987, -0.8575,  0.4789,  1.8310,  0.5837],\n",
      "        [-0.9362, -0.8247, -0.6621,  0.2001, -1.0268],\n",
      "        [ 1.6799, -0.3942, -0.4558, -0.6493,  0.2622]])\n",
      "tensor([ 0.5987, -0.8575,  0.4789,  1.8310,  0.5837, -0.9362, -0.8247, -0.6621,\n",
      "         0.2001, -1.0268,  1.6799, -0.3942, -0.4558, -0.6493,  0.2622])\n",
      "tensor([[ 0.5987, -0.8575,  0.4789,  1.8310,  0.5837],\n",
      "        [-0.9362, -0.8247, -0.6621,  0.2001, -1.0268],\n",
      "        [ 1.6799, -0.3942, -0.4558, -0.6493,  0.2622]])\n"
     ]
    }
   ],
   "source": [
    "x = torch.randn(3,5)\n",
    "y = x.view(15) #要符合x的数据个数\n",
    "z = x.view(-1, 5) # -1所指的维度可以根据其他维度的值推出来\n",
    "print(x.size(), y.size(), z.size()) #注意 view() 返回的新tensor与源tensor共享内存（其实是同⼀个tensor），也即更改其中的⼀个，另\n",
    "#外⼀个也会跟着改变。(顾名思义，view仅仅是改变了对这个张量的观察⻆度\n",
    "print(x)\n",
    "print(y)\n",
    "print(z)"
   ]
  },
  {
   "cell_type": "code",
   "execution_count": 42,
   "id": "eb2f816a-ab9e-4afa-99d6-3de884d3e7ec",
   "metadata": {},
   "outputs": [
    {
     "name": "stdout",
     "output_type": "stream",
     "text": [
      "tensor([[ 0.1631,  0.7754,  1.1291,  0.8919, -0.1491],\n",
      "        [ 1.9379, -0.1015,  1.3812, -0.1887,  1.0451],\n",
      "        [ 1.5668, -0.5529, -0.5099, -0.1188,  1.8559]])\n",
      "tensor([ 0.1631,  0.7754,  1.1291,  0.8919, -0.1491,  1.9379, -0.1015,  1.3812,\n",
      "        -0.1887,  1.0451,  1.5668, -0.5529, -0.5099, -0.1188,  1.8559])\n"
     ]
    }
   ],
   "source": [
    "x += 1\n",
    "print(x)\n",
    "print(y)"
   ]
  },
  {
   "cell_type": "code",
   "execution_count": 43,
   "id": "ba06a7ca-554b-4ab9-9e71-0062ee2ff368",
   "metadata": {},
   "outputs": [
    {
     "name": "stdout",
     "output_type": "stream",
     "text": [
      "tensor([[-0.8369, -0.2246,  0.1291, -0.1081, -1.1491],\n",
      "        [ 0.9379, -1.1015,  0.3812, -1.1887,  0.0451],\n",
      "        [ 0.5668, -1.5529, -1.5099, -1.1188,  0.8559]])\n",
      "tensor([ 0.1631,  0.7754,  1.1291,  0.8919, -0.1491,  1.9379, -0.1015,  1.3812,\n",
      "        -0.1887,  1.0451,  1.5668, -0.5529, -0.5099, -0.1188,  1.8559])\n"
     ]
    }
   ],
   "source": [
    "x_cp = x.clone().view(15) # 拷贝复制产生新的内存\n",
    "x -= 1\n",
    "print(x)\n",
    "print(x_cp)"
   ]
  },
  {
   "cell_type": "code",
   "execution_count": 50,
   "id": "91d24e1b-bd35-445d-9a12-ec490d351f15",
   "metadata": {},
   "outputs": [
    {
     "name": "stdout",
     "output_type": "stream",
     "text": [
      "tensor([0.6132])\n",
      "0.6131919026374817\n"
     ]
    }
   ],
   "source": [
    "x = torch.randn(1)\n",
    "print(x)\n",
    "print(x.item()) #标量 Tensor 转换成⼀个Python number"
   ]
  },
  {
   "cell_type": "code",
   "execution_count": 77,
   "id": "427b4369-a3ba-4f54-a0d4-75c5f33828bf",
   "metadata": {},
   "outputs": [
    {
     "name": "stdout",
     "output_type": "stream",
     "text": [
      "tensor([[0.5141, 0.2513, 0.0568, 0.4136, 0.9918],\n",
      "        [0.9264, 0.4555, 0.9974, 0.5151, 0.4051],\n",
      "        [0.3534, 0.5317, 0.5478, 0.9961, 0.2300],\n",
      "        [0.8631, 0.6638, 0.3347, 0.4907, 0.4558],\n",
      "        [0.5565, 0.1368, 0.2828, 0.9179, 0.4255]])\n"
     ]
    }
   ],
   "source": [
    "x = torch.eye(5)\n",
    "x = torch.rand_like(x)\n",
    "print(x)"
   ]
  },
  {
   "cell_type": "code",
   "execution_count": 78,
   "id": "a3681080-cc28-44b3-9afb-bd39cf1bd1c6",
   "metadata": {},
   "outputs": [
    {
     "name": "stdout",
     "output_type": "stream",
     "text": [
      "tensor(2.4336)\n",
      "tensor([0.5141, 0.4555, 0.5478, 0.4907, 0.4255])\n",
      "tensor([[0.0000, 0.2513, 0.0568, 0.4136, 0.9918],\n",
      "        [0.0000, 0.0000, 0.9974, 0.5151, 0.4051],\n",
      "        [0.0000, 0.0000, 0.0000, 0.9961, 0.2300],\n",
      "        [0.0000, 0.0000, 0.0000, 0.0000, 0.4558],\n",
      "        [0.0000, 0.0000, 0.0000, 0.0000, 0.0000]])\n"
     ]
    }
   ],
   "source": [
    "print(x.trace()) # 矩阵的迹\n",
    "print(x.diag()) # 矩阵的对角线元素\n",
    "print(x.triu(1)) # 矩阵的上三角 可带偏移量tril为下三角"
   ]
  },
  {
   "cell_type": "code",
   "execution_count": 58,
   "id": "6b1e53a6-4542-4c78-9ff1-1b7ba3bc03e7",
   "metadata": {},
   "outputs": [
    {
     "name": "stdout",
     "output_type": "stream",
     "text": [
      "tensor([[2., 0., 0., 0., 0.],\n",
      "        [0., 2., 0., 0., 0.],\n",
      "        [0., 0., 2., 0., 0.],\n",
      "        [0., 0., 0., 2., 0.],\n",
      "        [0., 0., 0., 0., 2.]])\n",
      "tensor([[0.0021, 0.9555, 0.4786, 1.3044, 1.0483],\n",
      "        [0.5731, 1.3000, 1.1682, 1.7298, 1.5510],\n",
      "        [1.1582, 1.4694, 0.9653, 1.9357, 1.3230],\n",
      "        [1.2337, 0.7416, 0.8225, 0.2170, 0.2023],\n",
      "        [0.6618, 1.4547, 0.2510, 0.0959, 1.4271]])\n"
     ]
    }
   ],
   "source": [
    "y = torch.eye(5)\n",
    "y.add_(y)\n",
    "print(y)\n",
    "print(y.mm(x))#矩阵乘法"
   ]
  },
  {
   "cell_type": "code",
   "execution_count": 62,
   "id": "0410521b-7a60-4337-bc7e-5c8ae735fd15",
   "metadata": {},
   "outputs": [
    {
     "name": "stdout",
     "output_type": "stream",
     "text": [
      "tensor([[0.0010, 0.2866, 0.5791, 0.6168, 0.3309],\n",
      "        [0.4777, 0.6500, 0.7347, 0.3708, 0.7274],\n",
      "        [0.2393, 0.5841, 0.4826, 0.4113, 0.1255],\n",
      "        [0.6522, 0.8649, 0.9678, 0.1085, 0.0479],\n",
      "        [0.5242, 0.7755, 0.6615, 0.1012, 0.7135]])\n"
     ]
    }
   ],
   "source": [
    "y = x.t()转置\n",
    "print(y)"
   ]
  },
  {
   "cell_type": "code",
   "execution_count": 84,
   "id": "da2392d5-6ead-424f-b245-d34a04f55fdf",
   "metadata": {},
   "outputs": [
    {
     "name": "stdout",
     "output_type": "stream",
     "text": [
      "tensor([[-0.4907,  0.4032, -1.1857,  1.3752,  1.0809],\n",
      "        [ 0.0972, -0.6774,  1.2213,  1.1637, -1.7170],\n",
      "        [ 0.1478,  1.2533,  0.4291, -1.3424, -0.6789],\n",
      "        [-0.1542, -0.4121,  0.6677, -0.1497,  0.9136],\n",
      "        [ 0.8450, -0.2534, -0.5675, -0.9579, -0.0312]])\n"
     ]
    }
   ],
   "source": [
    "y = torch.inverse(x)\n",
    "print(y)"
   ]
  },
  {
   "cell_type": "code",
   "execution_count": 86,
   "id": "8c8cdbc1-7c51-4909-a223-85831d614d57",
   "metadata": {},
   "outputs": [
    {
     "name": "stdout",
     "output_type": "stream",
     "text": [
      "tensor(1.0246)\n"
     ]
    }
   ],
   "source": [
    "x = torch.randn(5)\n",
    "y = torch.randn(5)\n",
    "print(torch.dot(x,y)) #x和y为同维张量 高纬度可使用或 x @ y"
   ]
  },
  {
   "cell_type": "code",
   "execution_count": 88,
   "id": "7cf3d0ca-dd02-40d5-a2b0-d7ebb99d077f",
   "metadata": {},
   "outputs": [
    {
     "name": "stdout",
     "output_type": "stream",
     "text": [
      "tensor([0, 0, 1])\n"
     ]
    }
   ],
   "source": [
    "a = torch.tensor([1, 0, 0])  # x轴单位向量\n",
    "b = torch.tensor([0, 1, 0])  # y轴单位向量\n",
    "\n",
    "cross_product = torch.cross(a, b)\n",
    "print(cross_product)  # 输出: tensor([0, 0, 1]) (z轴单位向量) 用于计算法向量"
   ]
  },
  {
   "cell_type": "code",
   "execution_count": 64,
   "id": "273d8dce-33bf-454c-812c-428280760cc7",
   "metadata": {},
   "outputs": [
    {
     "name": "stdout",
     "output_type": "stream",
     "text": [
      "U:\n",
      " tensor([[-0.2298,  0.8835],\n",
      "        [-0.5247,  0.2408],\n",
      "        [-0.8196, -0.4019]])\n",
      "S:\n",
      " tensor([9.5255, 0.5143])\n",
      "V:\n",
      " tensor([[-0.6196, -0.7849],\n",
      "        [-0.7849,  0.6196]])\n"
     ]
    }
   ],
   "source": [
    "import torch\n",
    "\n",
    "# 定义一个 3x2 的矩阵\n",
    "A = torch.tensor([[1.0, 2.0],\n",
    "                  [3.0, 4.0],\n",
    "                  [5.0, 6.0]], dtype=torch.float32)\n",
    "\n",
    "# 计算 SVD\n",
    "U, S, V = torch.svd(A)\n",
    "\n",
    "print(\"U:\\n\", U)\n",
    "print(\"S:\\n\", S)  # 奇异值（1D 张量）\n",
    "print(\"V:\\n\", V)  # 实际是 V^T"
   ]
  },
  {
   "cell_type": "code",
   "execution_count": null,
   "id": "381ce13b-0ba6-4a4a-ac87-330a8d41dfd5",
   "metadata": {},
   "outputs": [],
   "source": []
  }
 ],
 "metadata": {
  "kernelspec": {
   "display_name": "Python 3 (ipykernel)",
   "language": "python",
   "name": "python3"
  },
  "language_info": {
   "codemirror_mode": {
    "name": "ipython",
    "version": 3
   },
   "file_extension": ".py",
   "mimetype": "text/x-python",
   "name": "python",
   "nbconvert_exporter": "python",
   "pygments_lexer": "ipython3",
   "version": "3.11.7"
  }
 },
 "nbformat": 4,
 "nbformat_minor": 5
}
