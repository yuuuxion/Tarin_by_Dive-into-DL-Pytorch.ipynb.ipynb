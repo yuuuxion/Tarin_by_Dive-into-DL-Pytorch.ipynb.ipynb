{
 "cells": [
  {
   "cell_type": "code",
   "execution_count": 39,
   "id": "7dccf2bf-746f-4f7c-a454-0624f62f86c6",
   "metadata": {},
   "outputs": [],
   "source": [
    "import torch"
   ]
  },
  {
   "cell_type": "code",
   "execution_count": 45,
   "id": "41f159e9-e3e2-4232-b9f4-39e1498e9390",
   "metadata": {},
   "outputs": [
    {
     "name": "stdout",
     "output_type": "stream",
     "text": [
      "False\n",
      "None\n",
      "True\n",
      "tensor(144., grad_fn=<SumBackward0>)\n",
      "<SumBackward0 object at 0x000001D457157160>\n"
     ]
    }
   ],
   "source": [
    "a = torch.ones(2, 2) # 缺失情况下默认 requires_grad = False\n",
    "a += 1\n",
    "a = ((a * 3) / (a - 1))\n",
    "print(a.requires_grad) # False\n",
    "print(a.grad_fn) # 虽然有计算，但无其他的tensor参与，所以还是None\n",
    "a.requires_grad_(True)\n",
    "print(a.requires_grad) # True\n",
    "b = (a * a).sum() #求和\n",
    "print(b)\n",
    "print(b.grad_fn) # 最后执行的求和操作"
   ]
  },
  {
   "cell_type": "code",
   "execution_count": 40,
   "id": "9a3f5a1d-0584-4361-92aa-6d5a6b997656",
   "metadata": {},
   "outputs": [
    {
     "name": "stdout",
     "output_type": "stream",
     "text": [
      "tensor([[1., 1.],\n",
      "        [1., 1.]], requires_grad=True)\n",
      "None\n"
     ]
    }
   ],
   "source": [
    "x = torch.ones(2,2, requires_grad=True)\n",
    "print(x)\n",
    "print(x.grad_fn) #x是直接生成的，不是由其他的tensor生成而来"
   ]
  },
  {
   "cell_type": "code",
   "execution_count": 41,
   "id": "14a36a0d-e78d-4fe0-a170-ebed0acd08e1",
   "metadata": {},
   "outputs": [
    {
     "name": "stdout",
     "output_type": "stream",
     "text": [
      "tensor([[3., 3.],\n",
      "        [3., 3.]], grad_fn=<AddBackward0>)\n",
      "<AddBackward0 object at 0x000001D4562BB460>\n"
     ]
    }
   ],
   "source": [
    "y = x + 2\n",
    "print(y)\n",
    "print(y.grad_fn)#y是由x所组成的，并且最后执行的是加法"
   ]
  },
  {
   "cell_type": "code",
   "execution_count": 42,
   "id": "04b585a9-2113-40f6-bd14-403ccd74c687",
   "metadata": {},
   "outputs": [
    {
     "name": "stdout",
     "output_type": "stream",
     "text": [
      "True False\n"
     ]
    }
   ],
   "source": [
    "print(x.is_leaf, y.is_leaf) # True False  .is_leaf()判断是否为叶子节点"
   ]
  },
  {
   "cell_type": "code",
   "execution_count": 43,
   "id": "6316edd6-ffa7-4687-b99b-ee04d54763a5",
   "metadata": {},
   "outputs": [
    {
     "name": "stdout",
     "output_type": "stream",
     "text": [
      "tensor([[27., 27.],\n",
      "        [27., 27.]], grad_fn=<MulBackward0>) tensor(27., grad_fn=<MeanBackward0>)\n"
     ]
    }
   ],
   "source": [
    "z = y * y * 3\n",
    "out = z.mean()#求均值\n",
    "print(z, out)"
   ]
  },
  {
   "cell_type": "code",
   "execution_count": 44,
   "id": "939bca65-b21b-494d-957e-8f5f5cb9abda",
   "metadata": {},
   "outputs": [],
   "source": [
    "out.backward()#计算梯度，反向传播到组成out的变量"
   ]
  },
  {
   "cell_type": "code",
   "execution_count": 50,
   "id": "aeaf1379-cbdd-4ae3-9b78-60e82873259b",
   "metadata": {},
   "outputs": [
    {
     "name": "stdout",
     "output_type": "stream",
     "text": [
      "tensor([[4.5000, 4.5000],\n",
      "        [4.5000, 4.5000]])\n"
     ]
    }
   ],
   "source": [
    "print(x.grad)"
   ]
  },
  {
   "cell_type": "code",
   "execution_count": 54,
   "id": "b2d17099-0c6e-4765-8366-bf68958279b0",
   "metadata": {},
   "outputs": [
    {
     "name": "stdout",
     "output_type": "stream",
     "text": [
      "tensor([[1., 1.],\n",
      "        [1., 1.]])\n",
      "tensor([[2., 2.],\n",
      "        [2., 2.]])\n"
     ]
    }
   ],
   "source": [
    "x.grad.data.zero_()\n",
    "out2 = x.sum()\n",
    "out2.backward()\n",
    "print(x.grad)\n",
    "out3 = x.sum()\n",
    "#x.grad.data.zero_()\n",
    "out3.backward()\n",
    "print(x.grad)#grad在反向传播过程中是累加的(accumulated)，这意味着每⼀次运⾏反向传播，梯度都会累加之前的梯度，所以⼀般在反向传播之前需把梯度清零。"
   ]
  },
  {
   "cell_type": "code",
   "execution_count": 55,
   "id": "f5bf38ef-23f7-4007-916f-2bfaaef5ef74",
   "metadata": {},
   "outputs": [
    {
     "name": "stdout",
     "output_type": "stream",
     "text": [
      "tensor([2., 4., 6., 8.])\n"
     ]
    }
   ],
   "source": [
    "x = torch.tensor([1.0, 2.0, 3.0, 4.0], requires_grad=True) #不允许张量对张量求导，只允许标量对张量求导，求导结果是和⾃变量同形的张量\n",
    "y = 2 * x\n",
    "z = y.view(2, 2)\n",
    "v = torch.tensor([[1,2],[3,4]]) # \n",
    "z.backward(v) #传入同型矩阵将张量z进行加权求和，将z变为标量\n",
    "print(x.grad)"
   ]
  },
  {
   "cell_type": "code",
   "execution_count": 59,
   "id": "e4aceaf8-6906-432a-bc37-8bf2724ee6dd",
   "metadata": {},
   "outputs": [
    {
     "name": "stdout",
     "output_type": "stream",
     "text": [
      "True\n",
      "tensor(1., grad_fn=<PowBackward0>) True\n",
      "tensor(1.) False\n",
      "None\n",
      "tensor(2., grad_fn=<AddBackward0>) True\n",
      "tensor(2.)\n"
     ]
    }
   ],
   "source": [
    "x = torch.tensor(1.0, requires_grad=True)\n",
    "y1 = x ** 2\n",
    "with torch.no_grad():\n",
    " y2 = x ** 3\n",
    "y3 = y1 + y2\n",
    " \n",
    "print(x.requires_grad)\n",
    "print(y1, y1.requires_grad) # True\n",
    "print(y2, y2.requires_grad) # False\n",
    "print(y2.grad_fn) #中断追踪时，连Function都取消关联了\n",
    "print(y3, y3.requires_grad) # True\n",
    "\n",
    "y3.backward()\n",
    "print(x.grad) #其中y3关于y2，dy3/dy2 * dy2/dx的部分不会被计算"
   ]
  },
  {
   "cell_type": "code",
   "execution_count": 76,
   "id": "71098fb7-d189-4dea-8d46-ba02e264b36b",
   "metadata": {},
   "outputs": [
    {
     "name": "stdout",
     "output_type": "stream",
     "text": [
      "tensor([1.])\n",
      "False\n",
      "tensor([1.], requires_grad=True)\n",
      "tensor([2.])\n"
     ]
    }
   ],
   "source": [
    "x = torch.ones(1,requires_grad=True)\n",
    "print(x.data) # 还是⼀个tensor\n",
    "print(x.data.requires_grad) # 但是已经是独⽴于计算图之外\n",
    "\n",
    "#x *= 100  # 报错！尝试原地修改叶子张量\n",
    "#x = x * 100  # 合法：创建新张量（非原地操作）\n",
    "y = 2 * x\n",
    "#x.data *= 100 # 只改变了值，不会记录在计算图，所以不会影响梯度传播\n",
    "y.backward()\n",
    "print(x) # 更改data的值也会影响tensor的值\n",
    "print(x.grad)"
   ]
  },
  {
   "cell_type": "code",
   "execution_count": null,
   "id": "a96ce5c1-cbf4-4b8e-92de-78aa40131014",
   "metadata": {},
   "outputs": [],
   "source": []
  },
  {
   "cell_type": "code",
   "execution_count": null,
   "id": "93d50fbe-1b1c-4eee-a3c7-62a69b76e2f0",
   "metadata": {},
   "outputs": [],
   "source": []
  }
 ],
 "metadata": {
  "kernelspec": {
   "display_name": "Python [conda env:train_env]",
   "language": "python",
   "name": "conda-env-train_env-py"
  },
  "language_info": {
   "codemirror_mode": {
    "name": "ipython",
    "version": 3
   },
   "file_extension": ".py",
   "mimetype": "text/x-python",
   "name": "python",
   "nbconvert_exporter": "python",
   "pygments_lexer": "ipython3",
   "version": "3.9.21"
  }
 },
 "nbformat": 4,
 "nbformat_minor": 5
}
