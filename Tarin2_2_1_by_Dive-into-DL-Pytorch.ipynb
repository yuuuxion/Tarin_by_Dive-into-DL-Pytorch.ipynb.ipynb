{
 "cells": [
  {
   "cell_type": "code",
   "execution_count": 17,
   "id": "20e23b81-cc1e-44f3-bbb0-5a7bcae85582",
   "metadata": {},
   "outputs": [
    {
     "name": "stdout",
     "output_type": "stream",
     "text": [
      "tensor([[3.1275e-02, 1.9366e-42, 0.0000e+00],\n",
      "        [0.0000e+00, 0.0000e+00, 0.0000e+00],\n",
      "        [0.0000e+00, 0.0000e+00, 0.0000e+00],\n",
      "        [0.0000e+00, 0.0000e+00, 0.0000e+00],\n",
      "        [0.0000e+00, 0.0000e+00, 0.0000e+00]])\n"
     ]
    }
   ],
   "source": [
    "import torch\n",
    "\n",
    "x =  torch.empty(5,3)\n",
    "print(x) "
   ]
  },
  {
   "cell_type": "code",
   "execution_count": 18,
   "id": "fef377df-c68f-4519-b46d-d8cedc2c38c9",
   "metadata": {},
   "outputs": [
    {
     "name": "stdout",
     "output_type": "stream",
     "text": [
      "tensor([[0.2093, 0.0576, 0.4569],\n",
      "        [0.3780, 0.7079, 0.7866],\n",
      "        [0.1397, 0.4472, 0.2856],\n",
      "        [0.1539, 0.6192, 0.6796],\n",
      "        [0.9550, 0.1893, 0.6442]])\n"
     ]
    }
   ],
   "source": [
    "x = torch.rand(5,3)\n",
    "print(x)"
   ]
  },
  {
   "cell_type": "code",
   "execution_count": 19,
   "id": "e028672d-b19b-473a-b79c-b76dcf001997",
   "metadata": {},
   "outputs": [
    {
     "name": "stdout",
     "output_type": "stream",
     "text": [
      "tensor([0, 0, 0, 0], dtype=torch.int32)\n"
     ]
    }
   ],
   "source": [
    "x = torch.zeros(4,dtype=torch.int)\n",
    "print(x)"
   ]
  },
  {
   "cell_type": "code",
   "execution_count": 20,
   "id": "00b64670-916a-43e0-9088-ec24f722c721",
   "metadata": {},
   "outputs": [
    {
     "name": "stdout",
     "output_type": "stream",
     "text": [
      "tensor([[1, 2, 3],\n",
      "        [4, 5, 6]])\n"
     ]
    }
   ],
   "source": [
    "x = torch.tensor([[1,2,3],[4,5,6]])\n",
    "print(x)"
   ]
  },
  {
   "cell_type": "code",
   "execution_count": 21,
   "id": "fdb2717d-f0a2-49b1-8d8e-4f6c243de7f7",
   "metadata": {},
   "outputs": [
    {
     "name": "stdout",
     "output_type": "stream",
     "text": [
      "tensor([[1., 1., 1.],\n",
      "        [1., 1., 1.],\n",
      "        [1., 1., 1.],\n",
      "        [1., 1., 1.],\n",
      "        [1., 1., 1.]], dtype=torch.float64)\n"
     ]
    }
   ],
   "source": [
    "x = x.new_ones(5, 3, dtype=torch.float64) # 返回的tensor默认具有相同的torch.dtype和torch.device\n",
    "print(x)"
   ]
  },
  {
   "cell_type": "code",
   "execution_count": 24,
   "id": "1f93ef9a-c5d5-4283-9c23-dc97426b6382",
   "metadata": {},
   "outputs": [
    {
     "name": "stdout",
     "output_type": "stream",
     "text": [
      "tensor([[ 0.1206, -0.8799,  1.4684],\n",
      "        [-0.3820, -0.1116,  0.7325],\n",
      "        [-1.4179,  1.1344,  0.8563],\n",
      "        [-1.1766,  1.7836,  0.1512],\n",
      "        [-1.2844,  1.3951, -2.1880]], dtype=torch.float64)\n"
     ]
    }
   ],
   "source": [
    "x = torch.randn_like(x,dtype=float)\n",
    "print(x)"
   ]
  },
  {
   "cell_type": "code",
   "execution_count": 60,
   "id": "ddbbdf12-84ce-4b4c-9067-c76157641de2",
   "metadata": {},
   "outputs": [
    {
     "name": "stdout",
     "output_type": "stream",
     "text": [
      "torch.Size([2, 3])\n",
      "torch.Size([3, 1])\n",
      "torch.Size([1, 3])\n",
      "torch.Size([3])\n"
     ]
    }
   ],
   "source": [
    "x = torch.tensor([[1,2,3],[4,5,6]])\n",
    "print(x.size())\n",
    "x = torch.tensor([[1],[2],[3]])\n",
    "print(x.shape)\n",
    "x = torch.tensor([[1,2,3]])\n",
    "print(x.size())\n",
    "x = torch.tensor([1,2,3])\n",
    "print(x.size())"
   ]
  },
  {
   "cell_type": "code",
   "execution_count": 27,
   "id": "1165e0d7-43f3-4264-a13c-380fc12a4b65",
   "metadata": {},
   "outputs": [
    {
     "name": "stdout",
     "output_type": "stream",
     "text": [
      "tensor([[ 0.1206, -0.8799,  1.4684],\n",
      "        [-0.3820, -0.1116,  0.7325],\n",
      "        [-1.4179,  1.1344,  0.8563],\n",
      "        [-1.1766,  1.7836,  0.1512],\n",
      "        [-1.2844,  1.3951, -2.1880]], dtype=torch.float64)\n"
     ]
    }
   ],
   "source": [
    "y = torch.Tensor(x)\n",
    "print(y)"
   ]
  },
  {
   "cell_type": "code",
   "execution_count": 28,
   "id": "843d87b0-774f-4fab-9ac9-e871fdf30665",
   "metadata": {},
   "outputs": [
    {
     "name": "stdout",
     "output_type": "stream",
     "text": [
      "tensor([1, 2, 3])\n"
     ]
    }
   ],
   "source": [
    "x = torch.tensor([1,2,3])\n",
    "print(x)"
   ]
  },
  {
   "cell_type": "code",
   "execution_count": 29,
   "id": "ea723be0-1a40-4d43-941d-bda1d8c48d50",
   "metadata": {},
   "outputs": [
    {
     "name": "stdout",
     "output_type": "stream",
     "text": [
      "tensor([1., 1., 1., 1., 1., 1., 1., 1., 1., 1., 1., 1.])\n"
     ]
    }
   ],
   "source": [
    "x = torch.ones(12)\n",
    "print(x)"
   ]
  },
  {
   "cell_type": "code",
   "execution_count": 30,
   "id": "d30330ae-3342-41a6-a15a-2ab7e5746ff5",
   "metadata": {},
   "outputs": [
    {
     "name": "stdout",
     "output_type": "stream",
     "text": [
      "tensor([0., 0., 0., 0., 0.])\n"
     ]
    }
   ],
   "source": [
    "x = torch.zeros(5)\n",
    "print(x)"
   ]
  },
  {
   "cell_type": "code",
   "execution_count": 39,
   "id": "e4fd1e0a-409b-4b75-8c68-d90a1c51d6bb",
   "metadata": {},
   "outputs": [
    {
     "name": "stdout",
     "output_type": "stream",
     "text": [
      "tensor([[1., 0., 0., 0.],\n",
      "        [0., 1., 0., 0.],\n",
      "        [0., 0., 1., 0.],\n",
      "        [0., 0., 0., 1.]])\n"
     ]
    }
   ],
   "source": [
    "x = torch.eye(4)\n",
    "print(x)"
   ]
  },
  {
   "cell_type": "code",
   "execution_count": 34,
   "id": "f678194a-49b3-4171-a77d-9ec7e053de00",
   "metadata": {},
   "outputs": [
    {
     "name": "stdout",
     "output_type": "stream",
     "text": [
      "tensor([1, 3, 5, 7, 9])\n"
     ]
    }
   ],
   "source": [
    "x =  torch.arange(1,11,2) #左闭右开，类似于C++STL的迭代器end();\n",
    "print(x)"
   ]
  },
  {
   "cell_type": "code",
   "execution_count": 40,
   "id": "fd412555-da72-4bf5-a390-015c9e0834c4",
   "metadata": {},
   "outputs": [
    {
     "name": "stdout",
     "output_type": "stream",
     "text": [
      "tensor([  1.0000,  25.7500,  50.5000,  75.2500, 100.0000])\n"
     ]
    }
   ],
   "source": [
    "x = torch.linspace(1,100,5) #t同上左闭右开\n",
    "print(x)"
   ]
  },
  {
   "cell_type": "code",
   "execution_count": 64,
   "id": "22a4799c-288e-4ed3-aac2-164e4f073afb",
   "metadata": {},
   "outputs": [
    {
     "name": "stdout",
     "output_type": "stream",
     "text": [
      "tensor([0.4937, 0.7037, 0.4219, 0.9042, 0.0612])\n",
      "tensor([-0.9308,  0.7644, -1.4481, -0.9173,  0.2962])\n",
      "tensor([[2.1784, 2.5972, 4.4487, 2.7057],\n",
      "        [3.0783, 3.2809, 3.4854, 4.9846],\n",
      "        [2.4863, 4.8747, 3.8316, 2.5348]])\n"
     ]
    }
   ],
   "source": [
    "x = torch.rand(5) #[0, 1) 区间内均匀分布的随机数\n",
    "print(x)\n",
    "\n",
    "x = torch.randn(5)\n",
    "print(x)\n",
    "\n",
    "# 创建一个形状为 (3, 4) 的张量，并用 [a, b) 均匀分布填充  _原地操作\n",
    "x = torch.empty(3, 4).uniform_(2, 5)  # 范围 [2, 5)\n",
    "print(x)"
   ]
  },
  {
   "cell_type": "code",
   "execution_count": 62,
   "id": "bfbc5409-c79f-4785-b4c8-1cdf4236f13b",
   "metadata": {},
   "outputs": [
    {
     "name": "stdout",
     "output_type": "stream",
     "text": [
      "tensor([[ 1.0278,  1.0616,  0.1685,  2.0099,  0.5624, -0.4986]])\n",
      "tensor([[-1.3253,  1.0806,  1.0141,  3.7013,  3.1195, -5.9058]])\n",
      "tensor([[1.0921, 1.0121],\n",
      "        [1.9861, 2.2415]])\n"
     ]
    }
   ],
   "source": [
    "x = torch.normal(0,1,size = (1,6)) # 依次是均值，标准差，形状\n",
    "print(x)\n",
    "\n",
    "y = torch.normal(x,2)\n",
    "print(y)\n",
    "\n",
    "# mean 形状 (2, 1), std 形状 (2,)\n",
    "mean = torch.tensor([[1.0], [2.0]])  # shape (2, 1)\n",
    "std = torch.tensor([0.1, 0.2])       # shape (2,)\n",
    "\n",
    "# 广播后形状为 (2, 2)，输出对应位置的采样值\n",
    "tensor = torch.normal(mean=mean, std=std)\n",
    "print(tensor)"
   ]
  },
  {
   "cell_type": "code",
   "execution_count": 65,
   "id": "c3cf5280-3c5d-4ba0-b7fe-eca1b04f7332",
   "metadata": {},
   "outputs": [
    {
     "name": "stdout",
     "output_type": "stream",
     "text": [
      "tensor([9, 1, 3, 2, 4, 8, 0, 6, 5, 7])\n"
     ]
    }
   ],
   "source": [
    "m = 10\n",
    "x = torch.randperm(m) #输出0到m-1的随机序列\n",
    "print(x)"
   ]
  },
  {
   "cell_type": "code",
   "execution_count": null,
   "id": "9df90f35-b088-4b3a-939b-274f63485f9d",
   "metadata": {},
   "outputs": [],
   "source": []
  }
 ],
 "metadata": {
  "kernelspec": {
   "display_name": "Python 3 (ipykernel)",
   "language": "python",
   "name": "python3"
  },
  "language_info": {
   "codemirror_mode": {
    "name": "ipython",
    "version": 3
   },
   "file_extension": ".py",
   "mimetype": "text/x-python",
   "name": "python",
   "nbconvert_exporter": "python",
   "pygments_lexer": "ipython3",
   "version": "3.11.7"
  }
 },
 "nbformat": 4,
 "nbformat_minor": 5
}
