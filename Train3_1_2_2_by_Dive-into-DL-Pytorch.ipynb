{
 "cells": [
  {
   "cell_type": "code",
   "execution_count": 15,
   "id": "ea01ceea-55a6-4f7b-a5e0-e7cb8bf86f51",
   "metadata": {},
   "outputs": [],
   "source": [
    "import torch\n",
    "from time import time"
   ]
  },
  {
   "cell_type": "code",
   "execution_count": 16,
   "id": "50152297-ac08-4701-a6a6-761d8901d344",
   "metadata": {},
   "outputs": [],
   "source": [
    "a = torch.ones(1000)\n",
    "b = torch.ones(1000)"
   ]
  },
  {
   "cell_type": "code",
   "execution_count": 20,
   "id": "9b85fcb9-4b0a-46fb-bf5b-c1e7c657ecff",
   "metadata": {},
   "outputs": [
    {
     "name": "stdout",
     "output_type": "stream",
     "text": [
      "0.005181312561035156\n"
     ]
    }
   ],
   "source": [
    "start = time() #获取当前时间\n",
    "c = torch.zeros(1000)\n",
    "for i in range(1000):\n",
    " c[i] = a[i] + b[i]\n",
    "print(time() - start)"
   ]
  },
  {
   "cell_type": "code",
   "execution_count": 21,
   "id": "f512e78c-04db-403f-bd52-360adf77aa5d",
   "metadata": {},
   "outputs": [
    {
     "name": "stdout",
     "output_type": "stream",
     "text": [
      "0.0\n"
     ]
    }
   ],
   "source": [
    "start = time()\n",
    "d = torch.zeros(1000)\n",
    "d = a + b\n",
    "print(time() - start) # 矢量加法更快"
   ]
  },
  {
   "cell_type": "code",
   "execution_count": 22,
   "id": "992e8642-b95c-43c5-ba56-56dc3807d258",
   "metadata": {},
   "outputs": [
    {
     "name": "stdout",
     "output_type": "stream",
     "text": [
      "tensor([11., 11., 11.])\n"
     ]
    }
   ],
   "source": [
    "a = torch.ones(3)\n",
    "b = 10\n",
    "print(a + b) #广播机制"
   ]
  },
  {
   "cell_type": "code",
   "execution_count": null,
   "id": "4a2ee458-cd25-4c63-af5a-c9a2d209e897",
   "metadata": {},
   "outputs": [],
   "source": []
  }
 ],
 "metadata": {
  "kernelspec": {
   "display_name": "Python [conda env:train_env]",
   "language": "python",
   "name": "conda-env-train_env-py"
  },
  "language_info": {
   "codemirror_mode": {
    "name": "ipython",
    "version": 3
   },
   "file_extension": ".py",
   "mimetype": "text/x-python",
   "name": "python",
   "nbconvert_exporter": "python",
   "pygments_lexer": "ipython3",
   "version": "3.9.21"
  }
 },
 "nbformat": 4,
 "nbformat_minor": 5
}
