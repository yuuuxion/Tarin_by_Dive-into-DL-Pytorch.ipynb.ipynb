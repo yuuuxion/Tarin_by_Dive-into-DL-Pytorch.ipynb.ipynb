{
 "cells": [
  {
   "cell_type": "code",
   "execution_count": 2,
   "id": "41553697-4d1d-4725-a9b6-e791b9892fe5",
   "metadata": {},
   "outputs": [],
   "source": [
    "import torch"
   ]
  },
  {
   "cell_type": "code",
   "execution_count": 8,
   "id": "5bdc3aef-58c5-464a-8b6b-0194a1766fc0",
   "metadata": {},
   "outputs": [
    {
     "name": "stdout",
     "output_type": "stream",
     "text": [
      "tensor([[1, 2, 3, 4]])\n",
      "tensor([[1],\n",
      "        [2],\n",
      "        [3]])\n",
      "tensor([[2, 3, 4, 5],\n",
      "        [3, 4, 5, 6],\n",
      "        [4, 5, 6, 7]])\n"
     ]
    }
   ],
   "source": [
    "x = torch.arange(1, 5).view(1, 4)\n",
    "print(x)\n",
    "y = torch.arange(1, 4).view(3, 1)\n",
    "print(y)\n",
    "print(x + y)"
   ]
  },
  {
   "cell_type": "code",
   "execution_count": 9,
   "id": "02bc669f-116c-4421-a1e3-22de6608fbe6",
   "metadata": {},
   "outputs": [
    {
     "name": "stdout",
     "output_type": "stream",
     "text": [
      "False\n"
     ]
    }
   ],
   "source": [
    "x = torch.tensor([1, 2])\n",
    "y = torch.tensor([3, 4])\n",
    "id_before = id(y)\n",
    "y = y + x\n",
    "print(id(y) == id_before) # False 索引、 view 是不会开辟新内存的，⽽像 y = x + y 这样的运算是会新开内存的"
   ]
  },
  {
   "cell_type": "code",
   "execution_count": 10,
   "id": "07dc7a69-be33-4b5f-a183-910de0297ed8",
   "metadata": {},
   "outputs": [
    {
     "name": "stdout",
     "output_type": "stream",
     "text": [
      "True\n",
      "True\n"
     ]
    }
   ],
   "source": [
    "id_before = id(y)\n",
    "y[:] = y + x \n",
    "print(id(y) == id_before)\n",
    "y.add_(x)\n",
    "print(id(y) == id_before)\n",
    "y += x\n",
    "prinnt(id(y))\n",
    "torch.add(x,y,out = y)\n"
   ]
  },
  {
   "cell_type": "code",
   "execution_count": 11,
   "id": "33504d04-83b2-4564-995e-74b684beccc6",
   "metadata": {},
   "outputs": [
    {
     "name": "stdout",
     "output_type": "stream",
     "text": [
      "True\n"
     ]
    }
   ],
   "source": [
    "x = torch.tensor([1, 2])\n",
    "y = torch.tensor([3, 4])\n",
    "id_before = id(y)\n",
    "torch.add(x, y, out=y) # y += x, y.add_(x)\n",
    "print(id(y) == id_before) # True"
   ]
  },
  {
   "cell_type": "code",
   "execution_count": null,
   "id": "e85c2001-1015-45b5-b126-cda9622ef74e",
   "metadata": {},
   "outputs": [],
   "source": []
  }
 ],
 "metadata": {
  "kernelspec": {
   "display_name": "Python 3 (ipykernel)",
   "language": "python",
   "name": "python3"
  },
  "language_info": {
   "codemirror_mode": {
    "name": "ipython",
    "version": 3
   },
   "file_extension": ".py",
   "mimetype": "text/x-python",
   "name": "python",
   "nbconvert_exporter": "python",
   "pygments_lexer": "ipython3",
   "version": "3.11.7"
  }
 },
 "nbformat": 4,
 "nbformat_minor": 5
}
